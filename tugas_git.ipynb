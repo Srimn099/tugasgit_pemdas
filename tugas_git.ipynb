{
 "cells": [
  {
   "cell_type": "code",
   "execution_count": null,
   "metadata": {},
   "outputs": [
    {
     "name": "stdout",
     "output_type": "stream",
     "text": [
      "152020099 - Sri Mulyaningsih\n"
     ]
    }
   ],
   "source": [
    "data_panen = {\n",
    "    'lokasi1': {\n",
    "        'nama_lokasi': 'Kebun A',\n",
    "        'hasil_panen': {'padi': 1200, 'jagung': 800, 'kedelai': 500}\n",
    "    },\n",
    "    'lokasi2': {\n",
    "        'nama_lokasi': 'Kebun B',\n",
    "        'hasil_panen': {'padi': 1500, 'jagung': 900, 'kedelai': 450}\n",
    "    },\n",
    "    'lokasi3': {\n",
    "        'nama_lokasi': 'Kebun C',\n",
    "        'hasil_panen': {'padi': 1100, 'jagung': 750, 'kedelai': 600}\n",
    "    },\n",
    "    'lokasi4': {\n",
    "        'nama_lokasi': 'Kebun D',\n",
    "        'hasil_panen': {'padi': 1300, 'jagung': 850, 'kedelai': 550}\n",
    "    },\n",
    "    'lokasi5': {\n",
    "        'nama_lokasi': 'Kebun E',\n",
    "        'hasil_panen': {'padi': 1400, 'jagung': 950, 'kedelai': 480}\n",
    "    }\n",
    "}"
   ]
  },
  {
   "cell_type": "code",
   "execution_count": 3,
   "metadata": {},
   "outputs": [
    {
     "name": "stdout",
     "output_type": "stream",
     "text": [
      "152020099 - Sri Mulyaningsih\n"
     ]
    }
   ],
   "source": [
    "print(\"152020099 - Sri Mulyaningsih\")"
   ]
  },
  {
   "cell_type": "code",
   "execution_count": 2,
   "metadata": {},
   "outputs": [
    {
     "name": "stdout",
     "output_type": "stream",
     "text": [
      "{'lokasi1': {'nama_lokasi': 'Kebun A', 'hasil_panen': {'padi': 1200, 'jagung': 800, 'kedelai': 500}}, 'lokasi2': {'nama_lokasi': 'Kebun B', 'hasil_panen': {'padi': 1500, 'jagung': 900, 'kedelai': 450}}, 'lokasi3': {'nama_lokasi': 'Kebun C', 'hasil_panen': {'padi': 1100, 'jagung': 750, 'kedelai': 600}}, 'lokasi4': {'nama_lokasi': 'Kebun D', 'hasil_panen': {'padi': 1300, 'jagung': 850, 'kedelai': 550}}, 'lokasi5': {'nama_lokasi': 'Kebun E', 'hasil_panen': {'padi': 1400, 'jagung': 950, 'kedelai': 480}}}\n"
     ]
    }
   ],
   "source": [
    "print(data_panen)"
   ]
  },
  {
   "cell_type": "code",
   "execution_count": null,
   "metadata": {},
   "outputs": [],
   "source": [
    "jumlah_jagung_lokasi2 = data_panen['lokasi2']['hasil_panen']['jagung']\n",
    "print(\"Jumlah hasil panen jagung dari lokasi2:\", jumlah_jagung_lokasi2)"
   ]
  },
  {
   "cell_type": "code",
   "execution_count": null,
   "metadata": {},
   "outputs": [],
   "source": [
    "lokasi3 = data_panen['lokasi3']['nama_lokasi']\n",
    "print(\"Nama lokasi3:\", lokasi3)"
   ]
  },
  {
   "cell_type": "code",
   "execution_count": null,
   "metadata": {},
   "outputs": [],
   "source": [
    "padi = {\n",
    "    'lokasi1': data_panen['lokasi1']['hasil_panen']['padi'],\n",
    "    'lokasi2': data_panen['lokasi2']['hasil_panen']['padi'],\n",
    "    'lokasi3': data_panen['lokasi3']['hasil_panen']['padi'],\n",
    "    'lokasi4': data_panen['lokasi4']['hasil_panen']['padi'],\n",
    "    'lokasi5': data_panen['lokasi5']['hasil_panen']['padi'],\n",
    "}\n",
    "\n",
    "kedelai = {\n",
    "    'lokasi1': data_panen['lokasi1']['hasil_panen']['kedelai'],\n",
    "    'lokasi2': data_panen['lokasi2']['hasil_panen']['kedelai'],\n",
    "    'lokasi3': data_panen['lokasi3']['hasil_panen']['kedelai'],\n",
    "    'lokasi4': data_panen['lokasi4']['hasil_panen']['kedelai'],\n",
    "    'lokasi5': data_panen['lokasi5']['hasil_panen']['kedelai'],\n",
    "}\n",
    "\n",
    "print(\"Hasil panen padi:\", padi)\n",
    "print(\"Hasil panen kedelai:\", kedelai)"
   ]
  },
  {
   "cell_type": "code",
   "execution_count": null,
   "metadata": {},
   "outputs": [],
   "source": [
    "padi_lokasi1 = data_panen['lokasi1']['hasil_panen']['padi']\n",
    "padi_lokasi2 = data_panen['lokasi2']['hasil_panen']['padi']\n",
    "padi_lokasi3 = data_panen['lokasi3']['hasil_panen']['padi']\n",
    "padi_lokasi4 = data_panen['lokasi4']['hasil_panen']['padi']\n",
    "padi_lokasi5 = data_panen['lokasi5']['hasil_panen']['padi']\n",
    "\n",
    "kedelai_lokasi1 = data_panen['lokasi1']['hasil_panen']['kedelai']\n",
    "kedelai_lokasi2 = data_panen['lokasi2']['hasil_panen']['kedelai']\n",
    "kedelai_lokasi3 = data_panen['lokasi3']['hasil_panen']['kedelai']\n",
    "kedelai_lokasi4 = data_panen['lokasi4']['hasil_panen']['kedelai']\n",
    "kedelai_lokasi5 = data_panen['lokasi5']['hasil_panen']['kedelai']\n",
    "\n",
    "print(\"Hasil Panen Padi:\")\n",
    "print(f\"Lokasi 1: {padi_lokasi1}\")\n",
    "print(f\"Lokasi 2: {padi_lokasi2}\")\n",
    "print(f\"Lokasi 3: {padi_lokasi3}\")\n",
    "print(f\"Lokasi 4: {padi_lokasi4}\")\n",
    "print(f\"Lokasi 5: {padi_lokasi5}\")\n",
    "\n",
    "print(\"\\nHasil Panen Kedelai:\")\n",
    "print(f\"Lokasi 1: {kedelai_lokasi1}\")\n",
    "print(f\"Lokasi 2: {kedelai_lokasi2}\")\n",
    "print(f\"Lokasi 3: {kedelai_lokasi3}\")\n",
    "print(f\"Lokasi 4: {kedelai_lokasi4}\")\n",
    "print(f\"Lokasi 5: {kedelai_lokasi5}\")"
   ]
  },
  {
   "cell_type": "code",
   "execution_count": null,
   "metadata": {},
   "outputs": [],
   "source": [
    "for lokasi, info in data_panen.items():\n",
    "    padi = info['hasil_panen']['padi']\n",
    "    jagung = info['hasil_panen']['jagung']\n",
    "    \n",
    "    if padi > 1300 or jagung > 800:\n",
    "        print(f\"Lokasi {info['nama_lokasi']} butuh perhatian khusus.\")\n",
    "    else:\n",
    "        print(f\"Lokasi {info['nama_lokasi']} kondisi baik.\")"
   ]
  }
 ],
 "metadata": {
  "kernelspec": {
   "display_name": "Python 3",
   "language": "python",
   "name": "python3"
  },
  "language_info": {
   "codemirror_mode": {
    "name": "ipython",
    "version": 3
   },
   "file_extension": ".py",
   "mimetype": "text/x-python",
   "name": "python",
   "nbconvert_exporter": "python",
   "pygments_lexer": "ipython3",
   "version": "3.10.11"
  }
 },
 "nbformat": 4,
 "nbformat_minor": 2
}
